{
 "cells": [
  {
   "cell_type": "markdown",
   "id": "2a757a1d-7d83-41c0-bbae-4760596eda12",
   "metadata": {},
   "source": [
    "# Group C - Assignment 1\n",
    "# Problem Statememt\n",
    "# Create a review scraper for any ecommerce website to fetch real time comments, reviews, ratings, comment tags, customer name using Python"
   ]
  },
  {
   "cell_type": "markdown",
   "id": "8ae1006d-5227-444e-b468-870714c2d146",
   "metadata": {},
   "source": [
    "# Declaring Libraries "
   ]
  },
  {
   "cell_type": "code",
   "execution_count": 1,
   "id": "846190ad-9d40-488a-be92-6e4ed270951f",
   "metadata": {},
   "outputs": [],
   "source": [
    "import requests\n",
    "from bs4 import BeautifulSoup"
   ]
  },
  {
   "cell_type": "markdown",
   "id": "da81a5cc-44b7-49d9-b3b8-d19f5ac6707d",
   "metadata": {},
   "source": [
    "# Declaring Headers\n"
   ]
  },
  {
   "cell_type": "code",
   "execution_count": 2,
   "id": "cd1671f6-506b-429d-b430-42f593285a22",
   "metadata": {},
   "outputs": [],
   "source": [
    "HEADERS = ({'User-Agent':\n",
    "'Mozilla/5.0 (Windows NT 10.0; Win64; x64) \\\n",
    "AppleWebKit/537.36 (KHTML, like Gecko) \\\n",
    "Chrome/90.0.4430.212 Safari/537.36',\n",
    "'Accept-Language': 'en-US, en;q=0.5'})"
   ]
  },
  {
   "cell_type": "code",
   "execution_count": 3,
   "id": "6062d73f-ba31-462b-8049-e4845380f247",
   "metadata": {},
   "outputs": [],
   "source": [
    "def getdata(site_url):\n",
    "    res = requests.get(site_url, headers=HEADERS)\n",
    "    return res.text"
   ]
  },
  {
   "cell_type": "markdown",
   "id": "dc85f113-254c-475a-a907-3f791fe6ae8d",
   "metadata": {},
   "source": [
    "# Declaring Product URL"
   ]
  },
  {
   "cell_type": "code",
   "execution_count": 38,
   "id": "4c7dfae0-f5d9-4221-92b2-0ca699492d3d",
   "metadata": {},
   "outputs": [],
   "source": [
    "site_url=\"https://www.flipkart.com/akr-rocklight-touch-on-off-switch-led-night-table-light-reading-lamp-long-arm-3-shades-control-study-60-cm-white/p/itm279a8f5633369?pid=TLPFNNHH2N6D5SYY&lid=LSTTLPFNNHH2N6D5SYYCWFPJQ&marketplace=FLIPKART&fm=personalisedRecommendation%2Fp2p-same-replenishment&iid=R%3Asr%3Bp%3ATLPFXYSA4Z9YH68B%3Bpt%3Ahp%3Buid%3Aa375daf3-fa54-11ed-88a0-650838fbae99%3B.TLPFNNHH2N6D5SYY&ppt=hp&ppn=homepage&ssid=qp193x0y800000001684947701746&otracker=hp_reco_Suggested%2Bfor%2BYou_2_19.productCard.PMU_V2_AKR%2BRocklight%2BTouch%2BOn%252FOff%2BSwitch%2BLED%2BNight%2BTable%2BLight%252CReading%2BLamp%2BLong%2BArm%2Bwith%2B3%2BShades%2BTouch%2BControl%2BStudy%2BLamp%2B%252860%2Bcm%252C%2BWhite%2529%2BStudy%2BLamp_TLPFNNHH2N6D5SYY_personalisedRecommendation%2Fp2p-same-replenishment_1&otracker1=hp_reco_WHITELISTED_personalisedRecommendation%2Fp2p-same-replenishment_Suggested%2Bfor%2BYou_DESKTOP_HORIZONTAL_productCard_cc_2_NA_view-all&cid=TLPFNNHH2N6D5SYY\""
   ]
  },
  {
   "cell_type": "markdown",
   "id": "a6ad260c-b10f-4449-b9ca-68a3edd2a3ec",
   "metadata": {},
   "source": [
    "# Scraping Data"
   ]
  },
  {
   "cell_type": "code",
   "execution_count": 39,
   "id": "666c02e7-1778-4e68-b977-54e60a29adbb",
   "metadata": {},
   "outputs": [],
   "source": [
    "def gethtml(site_url):\n",
    "    data = getdata(site_url)\n",
    "    soup = BeautifulSoup(data, 'html.parser')\n",
    "    return (soup)"
   ]
  },
  {
   "cell_type": "code",
   "execution_count": 40,
   "id": "e4770e7c-2ed2-48c8-b9e6-18645d6e40c9",
   "metadata": {},
   "outputs": [],
   "source": [
    "soup = gethtml(site_url)\n",
    "data = getData(site_url)\n",
    "d"
   ]
  },
  {
   "cell_type": "markdown",
   "id": "9c987e16-2f51-4f27-ac09-8ba845aeb676",
   "metadata": {},
   "source": [
    "# Extracting Customer Names"
   ]
  },
  {
   "cell_type": "code",
   "execution_count": 41,
   "id": "d913ce64-d771-4c23-b40f-8f3cb4dca52d",
   "metadata": {},
   "outputs": [],
   "source": [
    "def getCustomerName(soup):\n",
    " # find the Html tag\n",
    " # with find()\n",
    " # and convert into string\n",
    "    data_string = \"\"\n",
    "    custumer_list = []\n",
    "\n",
    "    for item in soup.find_all(\"p\", class_=\"_2mcZGG\"):\n",
    "        data_string = data_string + item.get_text()\n",
    "        custumer_list.append(data_string)\n",
    "        data_string = \"\"\n",
    "    return custumer_list"
   ]
  },
  {
   "cell_type": "code",
   "execution_count": 42,
   "id": "521d3b65-988c-47ed-9d33-a877247a2582",
   "metadata": {},
   "outputs": [
    {
     "name": "stdout",
     "output_type": "stream",
     "text": [
      "['Certified Buyer, Bhubaneswar', 'Certified Buyer, Nagpur', 'Certified Buyer, Hyderabad', 'Certified Buyer, Barabanki', 'Certified Buyer, Gwalior', 'Certified Buyer, Panihati', 'Certified Buyer, Begusarai', 'Certified Buyer, Vishakhapatnam', 'Certified Buyer, Mathura District', 'Certified Buyer, Hamirpur District']\n"
     ]
    }
   ],
   "source": [
    "customer_res = getCustomerName(soup)\n",
    "print(customer_res)"
   ]
  },
  {
   "cell_type": "code",
   "execution_count": null,
   "id": "bfbcc43b-d810-42e5-99b3-123311411ca5",
   "metadata": {},
   "outputs": [],
   "source": []
  },
  {
   "cell_type": "markdown",
   "id": "e7ea9eaa-59bd-4347-8753-547f452c7b7b",
   "metadata": {},
   "source": [
    "# Extracting Product Review"
   ]
  },
  {
   "cell_type": "code",
   "execution_count": 43,
   "id": "a9f4ec91-070f-4fd4-988e-388394ce7143",
   "metadata": {},
   "outputs": [],
   "source": [
    "def getCustomerReview(soup):\n",
    "    review_string = \"\"\n",
    "    review_list = []\n",
    " \n",
    "    for item in soup.find_all(\"div\", class_=\"t-ZTKy\"):\n",
    "        review_string = review_string + item.get_text()\n",
    "        review_list.append(review_string)\n",
    "        review_string = \"\"\n",
    "    return review_list"
   ]
  },
  {
   "cell_type": "code",
   "execution_count": 44,
   "id": "9f5fa50b-589b-4256-8634-5eb08c3160c1",
   "metadata": {},
   "outputs": [
    {
     "name": "stdout",
     "output_type": "stream",
     "text": [
      "['Ah! Nice product. Good look , slim n hot. Bright n multiple use gives it a five star. Pen stand n phone holder is really a great invention to club with this lamp. Actually it saves a lot of space n screen stability issues.READ MORE', \"Fantastic...! Wonderful...! I not only like the lamp but also loved it... It has the vry powerful and sensetive touches... It's best feature is that it is 360°Routatable...and it has 3 lights at the top face and 1 at the bottom... So i would refer you all you can choose this lamp for ur study or office work... I gave it 5 stars and hope u too give it... Thanks to flipkart for safe and salecure delivery...READ MORE\", 'Very bright. As it charges with cable no worry about changing cells. 3 levels of brightening option. Affordable. Value for money. RecommendedREAD MORE', 'Good one 💯READ MORE', 'Nice lighting  with touch button technologyREAD MORE', 'The product is simply good. Works in every way that is mentioned in the product description. So to me, it deserves 5 star. If you like it, go for it!READ MORE', 'Product is very wellREAD MORE', 'Ok okREAD MORE', 'Battery backup less than 30 minutes..not recommend anyone to purchase this..READ MORE', 'The best thing that I have bought onlineREAD MORE']\n"
     ]
    }
   ],
   "source": [
    "\n",
    "customer_rev = getCustomerReview(soup)\n",
    "print(customer_rev)"
   ]
  },
  {
   "cell_type": "markdown",
   "id": "3a1a8425-37d0-4ddc-bdeb-f0b224030251",
   "metadata": {},
   "source": [
    "# Extracting Product Rating"
   ]
  },
  {
   "cell_type": "code",
   "execution_count": 45,
   "id": "4467b4b0-1c22-405e-ae9e-6f305a17215e",
   "metadata": {},
   "outputs": [],
   "source": [
    "\n",
    "def getCustomerRating(soup):\n",
    "    rating_string = \"\"\n",
    "    rating_list = []\n",
    "    \n",
    "    for item in soup.find_all(\"div\", class_=\"_3LWZlK _1BLPMq\"):\n",
    "        rating_string = rating_string + item.get_text()\n",
    "        rating_list.append(rating_string)\n",
    "        \n",
    "        rating_string = \"\"\n",
    "\n",
    "\n",
    "    return rating_list\n"
   ]
  },
  {
   "cell_type": "code",
   "execution_count": 46,
   "id": "3e923078-1ceb-4e26-af13-04e10257e7ed",
   "metadata": {},
   "outputs": [
    {
     "name": "stdout",
     "output_type": "stream",
     "text": [
      "['5', '5', '5', '5', '5', '5', '4', '4', '5']\n"
     ]
    }
   ],
   "source": [
    "customer_rat = getCustomerRating(soup)\n",
    "print(customer_rat)"
   ]
  },
  {
   "cell_type": "code",
   "execution_count": null,
   "id": "1a010737-bba8-4daa-9835-42e23b441b15",
   "metadata": {},
   "outputs": [],
   "source": []
  },
  {
   "cell_type": "code",
   "execution_count": null,
   "id": "64667c6f-8057-4e86-97d1-254d28c42be1",
   "metadata": {},
   "outputs": [],
   "source": []
  },
  {
   "cell_type": "code",
   "execution_count": null,
   "id": "89247c36-dc49-44a2-b8ad-e1b6a8ebf602",
   "metadata": {},
   "outputs": [],
   "source": []
  }
 ],
 "metadata": {
  "kernelspec": {
   "display_name": "Python 3 (ipykernel)",
   "language": "python",
   "name": "python3"
  },
  "language_info": {
   "codemirror_mode": {
    "name": "ipython",
    "version": 3
   },
   "file_extension": ".py",
   "mimetype": "text/x-python",
   "name": "python",
   "nbconvert_exporter": "python",
   "pygments_lexer": "ipython3",
   "version": "3.10.0"
  }
 },
 "nbformat": 4,
 "nbformat_minor": 5
}
