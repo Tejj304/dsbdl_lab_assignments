{
 "cells": [
  {
   "cell_type": "markdown",
   "id": "cea4e653-a42e-46d2-a6be-1491f54e1cfc",
   "metadata": {
    "tags": []
   },
   "source": [
    "# Group B - Assginment 2\n",
    "<h2>Problem Statememt</h2>\n",
    "<h3>Perform the following operations using Python on the Air quality data sets</h3>\n",
    "a. Data cleaning<br>\n",
    "b. Data integration<br>\n",
    "c. Data transformation<br>\n",
    "d. Error correcting<br>\n",
    "e. Data model building<br>"
   ]
  },
  {
   "cell_type": "code",
   "execution_count": 1,
   "id": "7bf456b0-6aec-48fa-b0b6-8794fd3916fb",
   "metadata": {},
   "outputs": [],
   "source": [
    "import pandas as pd"
   ]
  },
  {
   "cell_type": "markdown",
   "id": "37ab414e-d918-48d3-be11-692f7f5f659d",
   "metadata": {},
   "source": [
    "# Reading data from CSV file"
   ]
  },
  {
   "cell_type": "code",
   "execution_count": 2,
   "id": "eaf348bb-0d41-46f4-a527-06ea25f2f231",
   "metadata": {},
   "outputs": [
    {
     "data": {
      "text/html": [
       "<div>\n",
       "<style scoped>\n",
       "    .dataframe tbody tr th:only-of-type {\n",
       "        vertical-align: middle;\n",
       "    }\n",
       "\n",
       "    .dataframe tbody tr th {\n",
       "        vertical-align: top;\n",
       "    }\n",
       "\n",
       "    .dataframe thead th {\n",
       "        text-align: right;\n",
       "    }\n",
       "</style>\n",
       "<table border=\"1\" class=\"dataframe\">\n",
       "  <thead>\n",
       "    <tr style=\"text-align: right;\">\n",
       "      <th></th>\n",
       "      <th>Unnamed: 0</th>\n",
       "      <th>Ozone</th>\n",
       "      <th>Solar.R</th>\n",
       "      <th>Wind</th>\n",
       "      <th>Temp</th>\n",
       "      <th>Month</th>\n",
       "      <th>Day</th>\n",
       "      <th>Humidity</th>\n",
       "    </tr>\n",
       "  </thead>\n",
       "  <tbody>\n",
       "    <tr>\n",
       "      <th>0</th>\n",
       "      <td>1</td>\n",
       "      <td>41.0</td>\n",
       "      <td>190.0</td>\n",
       "      <td>7.4</td>\n",
       "      <td>67</td>\n",
       "      <td>5</td>\n",
       "      <td>1</td>\n",
       "      <td>High</td>\n",
       "    </tr>\n",
       "    <tr>\n",
       "      <th>1</th>\n",
       "      <td>2</td>\n",
       "      <td>36.0</td>\n",
       "      <td>118.0</td>\n",
       "      <td>8.0</td>\n",
       "      <td>72</td>\n",
       "      <td>5</td>\n",
       "      <td>2</td>\n",
       "      <td>High</td>\n",
       "    </tr>\n",
       "    <tr>\n",
       "      <th>2</th>\n",
       "      <td>3</td>\n",
       "      <td>12.0</td>\n",
       "      <td>149.0</td>\n",
       "      <td>12.6</td>\n",
       "      <td>74</td>\n",
       "      <td>5</td>\n",
       "      <td>3</td>\n",
       "      <td>Low</td>\n",
       "    </tr>\n",
       "    <tr>\n",
       "      <th>3</th>\n",
       "      <td>4</td>\n",
       "      <td>18.0</td>\n",
       "      <td>313.0</td>\n",
       "      <td>11.5</td>\n",
       "      <td>62</td>\n",
       "      <td>5</td>\n",
       "      <td>4</td>\n",
       "      <td>NaN</td>\n",
       "    </tr>\n",
       "    <tr>\n",
       "      <th>4</th>\n",
       "      <td>5</td>\n",
       "      <td>NaN</td>\n",
       "      <td>NaN</td>\n",
       "      <td>14.3</td>\n",
       "      <td>56</td>\n",
       "      <td>5</td>\n",
       "      <td>5</td>\n",
       "      <td>High</td>\n",
       "    </tr>\n",
       "    <tr>\n",
       "      <th>5</th>\n",
       "      <td>6</td>\n",
       "      <td>28.0</td>\n",
       "      <td>NaN</td>\n",
       "      <td>14.9</td>\n",
       "      <td>66</td>\n",
       "      <td>5</td>\n",
       "      <td>6</td>\n",
       "      <td>High</td>\n",
       "    </tr>\n",
       "    <tr>\n",
       "      <th>6</th>\n",
       "      <td>7</td>\n",
       "      <td>23.0</td>\n",
       "      <td>299.0</td>\n",
       "      <td>8.6</td>\n",
       "      <td>65</td>\n",
       "      <td>5</td>\n",
       "      <td>7</td>\n",
       "      <td>High</td>\n",
       "    </tr>\n",
       "    <tr>\n",
       "      <th>7</th>\n",
       "      <td>8</td>\n",
       "      <td>19.0</td>\n",
       "      <td>99.0</td>\n",
       "      <td>13.8</td>\n",
       "      <td>59</td>\n",
       "      <td>5</td>\n",
       "      <td>8</td>\n",
       "      <td>Low</td>\n",
       "    </tr>\n",
       "    <tr>\n",
       "      <th>8</th>\n",
       "      <td>9</td>\n",
       "      <td>8.0</td>\n",
       "      <td>19.0</td>\n",
       "      <td>20.1</td>\n",
       "      <td>61</td>\n",
       "      <td>5</td>\n",
       "      <td>9</td>\n",
       "      <td>NaN</td>\n",
       "    </tr>\n",
       "    <tr>\n",
       "      <th>9</th>\n",
       "      <td>10</td>\n",
       "      <td>NaN</td>\n",
       "      <td>194.0</td>\n",
       "      <td>8.6</td>\n",
       "      <td>69</td>\n",
       "      <td>5</td>\n",
       "      <td>10</td>\n",
       "      <td>Medium</td>\n",
       "    </tr>\n",
       "  </tbody>\n",
       "</table>\n",
       "</div>"
      ],
      "text/plain": [
       "   Unnamed: 0  Ozone  Solar.R  Wind  Temp  Month  Day Humidity\n",
       "0           1   41.0    190.0   7.4    67      5    1     High\n",
       "1           2   36.0    118.0   8.0    72      5    2     High\n",
       "2           3   12.0    149.0  12.6    74      5    3      Low\n",
       "3           4   18.0    313.0  11.5    62      5    4      NaN\n",
       "4           5    NaN      NaN  14.3    56      5    5     High\n",
       "5           6   28.0      NaN  14.9    66      5    6     High\n",
       "6           7   23.0    299.0   8.6    65      5    7     High\n",
       "7           8   19.0     99.0  13.8    59      5    8      Low\n",
       "8           9    8.0     19.0  20.1    61      5    9      NaN\n",
       "9          10    NaN    194.0   8.6    69      5   10   Medium"
      ]
     },
     "execution_count": 2,
     "metadata": {},
     "output_type": "execute_result"
    }
   ],
   "source": [
    "d = pd.read_csv(\"datasets/AirQuality.csv\")\n",
    "d.head(10)"
   ]
  },
  {
   "cell_type": "code",
   "execution_count": 3,
   "id": "7799fcc2-7664-42e8-abe0-3f43ecea6bfe",
   "metadata": {},
   "outputs": [
    {
     "data": {
      "text/plain": [
       "Unnamed: 0     0\n",
       "Ozone         37\n",
       "Solar.R        7\n",
       "Wind           2\n",
       "Temp           0\n",
       "Month          0\n",
       "Day            0\n",
       "Humidity       8\n",
       "dtype: int64"
      ]
     },
     "execution_count": 3,
     "metadata": {},
     "output_type": "execute_result"
    }
   ],
   "source": [
    "d.isnull().sum()"
   ]
  },
  {
   "cell_type": "markdown",
   "id": "06b443cb-49de-436e-a8e0-db34d710beee",
   "metadata": {},
   "source": [
    "# Data Cleaning"
   ]
  },
  {
   "cell_type": "markdown",
   "id": "e7131fc7-749e-4f6f-aaee-b1e2f1d125d1",
   "metadata": {},
   "source": [
    "<h3>Removing unwanted columns</h3>"
   ]
  },
  {
   "cell_type": "code",
   "execution_count": 4,
   "id": "fc83f051-f41b-47f6-bbbc-32b0293e9385",
   "metadata": {},
   "outputs": [],
   "source": [
    "aditya = d.drop(\"Unnamed: 0\", axis=1)"
   ]
  },
  {
   "cell_type": "markdown",
   "id": "217b3bbd-ba5c-469b-b063-384f537089ca",
   "metadata": {},
   "source": [
    "<h3>Replacing numerical null values</h3>"
   ]
  },
  {
   "cell_type": "code",
   "execution_count": 5,
   "id": "3ba437ea-ea63-4710-b451-ffdf151c02f6",
   "metadata": {},
   "outputs": [],
   "source": [
    "aditya[\"Ozone\"] = aditya[\"Ozone\"].fillna(aditya[\"Ozone\"].mean())\n",
    "aditya[\"Solar.R\"] = aditya[\"Solar.R\"].fillna(aditya[\"Solar.R\"].mean())\n",
    "aditya[\"Wind\"] = aditya[\"Wind\"].fillna(aditya[\"Wind\"].mean())"
   ]
  },
  {
   "cell_type": "markdown",
   "id": "d4bf63d4-038a-4efe-a972-0150f5f8f099",
   "metadata": {},
   "source": [
    "<h3>Replacing categorical null values</h3>"
   ]
  },
  {
   "cell_type": "code",
   "execution_count": 6,
   "id": "a5c3e478-1f1c-41fc-9994-739ac1e2cf26",
   "metadata": {},
   "outputs": [
    {
     "data": {
      "text/plain": [
       "Ozone       0\n",
       "Solar.R     0\n",
       "Wind        0\n",
       "Temp        0\n",
       "Month       0\n",
       "Day         0\n",
       "Humidity    0\n",
       "dtype: int64"
      ]
     },
     "execution_count": 6,
     "metadata": {},
     "output_type": "execute_result"
    }
   ],
   "source": [
    "aditya[\"Humidity\"] = aditya[\"Humidity\"].fillna(aditya[\"Humidity\"].mode()[0])\n",
    "aditya.isnull().sum()"
   ]
  },
  {
   "cell_type": "code",
   "execution_count": 7,
   "id": "b3663268-aa62-4475-adf7-f24efbffa84e",
   "metadata": {},
   "outputs": [
    {
     "data": {
      "text/plain": [
       "Ozone       float64\n",
       "Solar.R     float64\n",
       "Wind        float64\n",
       "Temp          int64\n",
       "Month         int64\n",
       "Day           int64\n",
       "Humidity     object\n",
       "dtype: object"
      ]
     },
     "execution_count": 7,
     "metadata": {},
     "output_type": "execute_result"
    }
   ],
   "source": [
    "aditya.dtypes"
   ]
  },
  {
   "cell_type": "code",
   "execution_count": null,
   "id": "c75b06ef-3004-42a6-8b25-f0ce046ca347",
   "metadata": {},
   "outputs": [],
   "source": []
  },
  {
   "cell_type": "markdown",
   "id": "6ea7b53d-9552-42fa-9758-6d8eeb86fd79",
   "metadata": {},
   "source": [
    "# Data Transformation\n",
    "<h3>Using Label Encoding on Humidity column</h3>"
   ]
  },
  {
   "cell_type": "code",
   "execution_count": 8,
   "id": "bb07fd5a-6213-4ce6-905d-d8d7ba72a4aa",
   "metadata": {},
   "outputs": [],
   "source": [
    "from sklearn.preprocessing import LabelEncoder"
   ]
  },
  {
   "cell_type": "code",
   "execution_count": 9,
   "id": "6a64cd72-5bb5-4c25-b827-4b1fe0020045",
   "metadata": {},
   "outputs": [],
   "source": [
    "le = LabelEncoder()"
   ]
  },
  {
   "cell_type": "code",
   "execution_count": 10,
   "id": "51c6cc30-0cb4-492f-8b39-64b306255608",
   "metadata": {},
   "outputs": [],
   "source": [
    "aditya[\"Humidity\"] = le.fit_transform(aditya[\"Humidity\"])"
   ]
  },
  {
   "cell_type": "code",
   "execution_count": 11,
   "id": "ed3b0041-2bf6-441c-8f73-b4b6b5d9d11a",
   "metadata": {},
   "outputs": [
    {
     "data": {
      "text/plain": [
       "array([0, 1, 2])"
      ]
     },
     "execution_count": 11,
     "metadata": {},
     "output_type": "execute_result"
    }
   ],
   "source": [
    "aditya[\"Humidity\"].unique()"
   ]
  },
  {
   "cell_type": "code",
   "execution_count": 12,
   "id": "5bedf89c-a21e-40a6-b6c4-250da8257de8",
   "metadata": {},
   "outputs": [
    {
     "data": {
      "text/plain": [
       "Ozone       float64\n",
       "Solar.R     float64\n",
       "Wind        float64\n",
       "Temp          int64\n",
       "Month         int64\n",
       "Day           int64\n",
       "Humidity      int32\n",
       "dtype: object"
      ]
     },
     "execution_count": 12,
     "metadata": {},
     "output_type": "execute_result"
    }
   ],
   "source": [
    "aditya.dtypes"
   ]
  },
  {
   "cell_type": "markdown",
   "id": "191be4f9-f64f-41e5-9561-0d78353d8f0f",
   "metadata": {},
   "source": [
    "# Data Integration\n",
    "<h3>Subset Creation (Row-wise)</h3>"
   ]
  },
  {
   "cell_type": "code",
   "execution_count": null,
   "id": "dad29cfc-1461-41aa-831c-087743644ff2",
   "metadata": {},
   "outputs": [],
   "source": []
  },
  {
   "cell_type": "code",
   "execution_count": 13,
   "id": "940a3b76-768e-43f1-9bd5-cb93768090b2",
   "metadata": {},
   "outputs": [
    {
     "data": {
      "text/html": [
       "<div>\n",
       "<style scoped>\n",
       "    .dataframe tbody tr th:only-of-type {\n",
       "        vertical-align: middle;\n",
       "    }\n",
       "\n",
       "    .dataframe tbody tr th {\n",
       "        vertical-align: top;\n",
       "    }\n",
       "\n",
       "    .dataframe thead th {\n",
       "        text-align: right;\n",
       "    }\n",
       "</style>\n",
       "<table border=\"1\" class=\"dataframe\">\n",
       "  <thead>\n",
       "    <tr style=\"text-align: right;\">\n",
       "      <th></th>\n",
       "      <th>Ozone</th>\n",
       "      <th>Solar.R</th>\n",
       "      <th>Wind</th>\n",
       "      <th>Temp</th>\n",
       "      <th>Month</th>\n",
       "      <th>Day</th>\n",
       "      <th>Humidity</th>\n",
       "    </tr>\n",
       "  </thead>\n",
       "  <tbody>\n",
       "    <tr>\n",
       "      <th>1</th>\n",
       "      <td>36.0</td>\n",
       "      <td>118.0</td>\n",
       "      <td>8.0</td>\n",
       "      <td>72</td>\n",
       "      <td>5</td>\n",
       "      <td>2</td>\n",
       "      <td>0</td>\n",
       "    </tr>\n",
       "    <tr>\n",
       "      <th>2</th>\n",
       "      <td>12.0</td>\n",
       "      <td>149.0</td>\n",
       "      <td>12.6</td>\n",
       "      <td>74</td>\n",
       "      <td>5</td>\n",
       "      <td>3</td>\n",
       "      <td>1</td>\n",
       "    </tr>\n",
       "    <tr>\n",
       "      <th>3</th>\n",
       "      <td>18.0</td>\n",
       "      <td>313.0</td>\n",
       "      <td>11.5</td>\n",
       "      <td>62</td>\n",
       "      <td>5</td>\n",
       "      <td>4</td>\n",
       "      <td>0</td>\n",
       "    </tr>\n",
       "    <tr>\n",
       "      <th>6</th>\n",
       "      <td>23.0</td>\n",
       "      <td>299.0</td>\n",
       "      <td>8.6</td>\n",
       "      <td>65</td>\n",
       "      <td>5</td>\n",
       "      <td>7</td>\n",
       "      <td>0</td>\n",
       "    </tr>\n",
       "    <tr>\n",
       "      <th>12</th>\n",
       "      <td>11.0</td>\n",
       "      <td>290.0</td>\n",
       "      <td>9.2</td>\n",
       "      <td>66</td>\n",
       "      <td>5</td>\n",
       "      <td>13</td>\n",
       "      <td>1</td>\n",
       "    </tr>\n",
       "    <tr>\n",
       "      <th>28</th>\n",
       "      <td>45.0</td>\n",
       "      <td>252.0</td>\n",
       "      <td>14.9</td>\n",
       "      <td>81</td>\n",
       "      <td>5</td>\n",
       "      <td>29</td>\n",
       "      <td>0</td>\n",
       "    </tr>\n",
       "  </tbody>\n",
       "</table>\n",
       "</div>"
      ],
      "text/plain": [
       "    Ozone  Solar.R  Wind  Temp  Month  Day  Humidity\n",
       "1    36.0    118.0   8.0    72      5    2         0\n",
       "2    12.0    149.0  12.6    74      5    3         1\n",
       "3    18.0    313.0  11.5    62      5    4         0\n",
       "6    23.0    299.0   8.6    65      5    7         0\n",
       "12   11.0    290.0   9.2    66      5   13         1\n",
       "28   45.0    252.0  14.9    81      5   29         0"
      ]
     },
     "execution_count": 13,
     "metadata": {},
     "output_type": "execute_result"
    }
   ],
   "source": [
    "#Subset-1\n",
    "s1 = aditya.iloc[[1,2,3,6,12,28],:]\n",
    "s1"
   ]
  },
  {
   "cell_type": "code",
   "execution_count": 14,
   "id": "6c6db2c3-fd9f-48ea-b2b4-6d91e1d1ffcd",
   "metadata": {},
   "outputs": [
    {
     "data": {
      "text/html": [
       "<div>\n",
       "<style scoped>\n",
       "    .dataframe tbody tr th:only-of-type {\n",
       "        vertical-align: middle;\n",
       "    }\n",
       "\n",
       "    .dataframe tbody tr th {\n",
       "        vertical-align: top;\n",
       "    }\n",
       "\n",
       "    .dataframe thead th {\n",
       "        text-align: right;\n",
       "    }\n",
       "</style>\n",
       "<table border=\"1\" class=\"dataframe\">\n",
       "  <thead>\n",
       "    <tr style=\"text-align: right;\">\n",
       "      <th></th>\n",
       "      <th>Ozone</th>\n",
       "      <th>Solar.R</th>\n",
       "      <th>Wind</th>\n",
       "      <th>Temp</th>\n",
       "      <th>Month</th>\n",
       "      <th>Day</th>\n",
       "      <th>Humidity</th>\n",
       "    </tr>\n",
       "  </thead>\n",
       "  <tbody>\n",
       "    <tr>\n",
       "      <th>70</th>\n",
       "      <td>85.00000</td>\n",
       "      <td>175.000000</td>\n",
       "      <td>7.4</td>\n",
       "      <td>89</td>\n",
       "      <td>7</td>\n",
       "      <td>10</td>\n",
       "      <td>2</td>\n",
       "    </tr>\n",
       "    <tr>\n",
       "      <th>81</th>\n",
       "      <td>16.00000</td>\n",
       "      <td>7.000000</td>\n",
       "      <td>6.9</td>\n",
       "      <td>74</td>\n",
       "      <td>7</td>\n",
       "      <td>21</td>\n",
       "      <td>2</td>\n",
       "    </tr>\n",
       "    <tr>\n",
       "      <th>95</th>\n",
       "      <td>78.00000</td>\n",
       "      <td>185.931507</td>\n",
       "      <td>6.9</td>\n",
       "      <td>86</td>\n",
       "      <td>8</td>\n",
       "      <td>4</td>\n",
       "      <td>0</td>\n",
       "    </tr>\n",
       "    <tr>\n",
       "      <th>105</th>\n",
       "      <td>65.00000</td>\n",
       "      <td>157.000000</td>\n",
       "      <td>9.7</td>\n",
       "      <td>80</td>\n",
       "      <td>8</td>\n",
       "      <td>14</td>\n",
       "      <td>2</td>\n",
       "    </tr>\n",
       "    <tr>\n",
       "      <th>123</th>\n",
       "      <td>96.00000</td>\n",
       "      <td>167.000000</td>\n",
       "      <td>6.9</td>\n",
       "      <td>91</td>\n",
       "      <td>9</td>\n",
       "      <td>1</td>\n",
       "      <td>1</td>\n",
       "    </tr>\n",
       "    <tr>\n",
       "      <th>137</th>\n",
       "      <td>13.00000</td>\n",
       "      <td>112.000000</td>\n",
       "      <td>11.5</td>\n",
       "      <td>71</td>\n",
       "      <td>9</td>\n",
       "      <td>15</td>\n",
       "      <td>0</td>\n",
       "    </tr>\n",
       "    <tr>\n",
       "      <th>149</th>\n",
       "      <td>42.12931</td>\n",
       "      <td>145.000000</td>\n",
       "      <td>13.2</td>\n",
       "      <td>77</td>\n",
       "      <td>9</td>\n",
       "      <td>27</td>\n",
       "      <td>1</td>\n",
       "    </tr>\n",
       "  </tbody>\n",
       "</table>\n",
       "</div>"
      ],
      "text/plain": [
       "        Ozone     Solar.R  Wind  Temp  Month  Day  Humidity\n",
       "70   85.00000  175.000000   7.4    89      7   10         2\n",
       "81   16.00000    7.000000   6.9    74      7   21         2\n",
       "95   78.00000  185.931507   6.9    86      8    4         0\n",
       "105  65.00000  157.000000   9.7    80      8   14         2\n",
       "123  96.00000  167.000000   6.9    91      9    1         1\n",
       "137  13.00000  112.000000  11.5    71      9   15         0\n",
       "149  42.12931  145.000000  13.2    77      9   27         1"
      ]
     },
     "execution_count": 14,
     "metadata": {},
     "output_type": "execute_result"
    }
   ],
   "source": [
    "#Subset-2\n",
    "s2 = aditya.iloc[[70,81,95,105,123,137,149],:]\n",
    "s2"
   ]
  },
  {
   "cell_type": "markdown",
   "id": "927da528-51fd-464e-96ff-271148c78613",
   "metadata": {},
   "source": [
    "<h2>Merging Subsets</h2>"
   ]
  },
  {
   "cell_type": "code",
   "execution_count": 15,
   "id": "792be805-58c5-4e67-b2c1-99f9026db2b7",
   "metadata": {},
   "outputs": [],
   "source": [
    "merge = pd.concat([s1,s2])"
   ]
  },
  {
   "cell_type": "code",
   "execution_count": 16,
   "id": "959c7f0a-14fd-4c1e-9956-5ae5914b219a",
   "metadata": {},
   "outputs": [
    {
     "data": {
      "text/html": [
       "<div>\n",
       "<style scoped>\n",
       "    .dataframe tbody tr th:only-of-type {\n",
       "        vertical-align: middle;\n",
       "    }\n",
       "\n",
       "    .dataframe tbody tr th {\n",
       "        vertical-align: top;\n",
       "    }\n",
       "\n",
       "    .dataframe thead th {\n",
       "        text-align: right;\n",
       "    }\n",
       "</style>\n",
       "<table border=\"1\" class=\"dataframe\">\n",
       "  <thead>\n",
       "    <tr style=\"text-align: right;\">\n",
       "      <th></th>\n",
       "      <th>Ozone</th>\n",
       "      <th>Solar.R</th>\n",
       "      <th>Wind</th>\n",
       "      <th>Temp</th>\n",
       "      <th>Month</th>\n",
       "      <th>Day</th>\n",
       "      <th>Humidity</th>\n",
       "    </tr>\n",
       "  </thead>\n",
       "  <tbody>\n",
       "    <tr>\n",
       "      <th>1</th>\n",
       "      <td>36.00000</td>\n",
       "      <td>118.000000</td>\n",
       "      <td>8.0</td>\n",
       "      <td>72</td>\n",
       "      <td>5</td>\n",
       "      <td>2</td>\n",
       "      <td>0</td>\n",
       "    </tr>\n",
       "    <tr>\n",
       "      <th>2</th>\n",
       "      <td>12.00000</td>\n",
       "      <td>149.000000</td>\n",
       "      <td>12.6</td>\n",
       "      <td>74</td>\n",
       "      <td>5</td>\n",
       "      <td>3</td>\n",
       "      <td>1</td>\n",
       "    </tr>\n",
       "    <tr>\n",
       "      <th>3</th>\n",
       "      <td>18.00000</td>\n",
       "      <td>313.000000</td>\n",
       "      <td>11.5</td>\n",
       "      <td>62</td>\n",
       "      <td>5</td>\n",
       "      <td>4</td>\n",
       "      <td>0</td>\n",
       "    </tr>\n",
       "    <tr>\n",
       "      <th>6</th>\n",
       "      <td>23.00000</td>\n",
       "      <td>299.000000</td>\n",
       "      <td>8.6</td>\n",
       "      <td>65</td>\n",
       "      <td>5</td>\n",
       "      <td>7</td>\n",
       "      <td>0</td>\n",
       "    </tr>\n",
       "    <tr>\n",
       "      <th>12</th>\n",
       "      <td>11.00000</td>\n",
       "      <td>290.000000</td>\n",
       "      <td>9.2</td>\n",
       "      <td>66</td>\n",
       "      <td>5</td>\n",
       "      <td>13</td>\n",
       "      <td>1</td>\n",
       "    </tr>\n",
       "    <tr>\n",
       "      <th>28</th>\n",
       "      <td>45.00000</td>\n",
       "      <td>252.000000</td>\n",
       "      <td>14.9</td>\n",
       "      <td>81</td>\n",
       "      <td>5</td>\n",
       "      <td>29</td>\n",
       "      <td>0</td>\n",
       "    </tr>\n",
       "    <tr>\n",
       "      <th>70</th>\n",
       "      <td>85.00000</td>\n",
       "      <td>175.000000</td>\n",
       "      <td>7.4</td>\n",
       "      <td>89</td>\n",
       "      <td>7</td>\n",
       "      <td>10</td>\n",
       "      <td>2</td>\n",
       "    </tr>\n",
       "    <tr>\n",
       "      <th>81</th>\n",
       "      <td>16.00000</td>\n",
       "      <td>7.000000</td>\n",
       "      <td>6.9</td>\n",
       "      <td>74</td>\n",
       "      <td>7</td>\n",
       "      <td>21</td>\n",
       "      <td>2</td>\n",
       "    </tr>\n",
       "    <tr>\n",
       "      <th>95</th>\n",
       "      <td>78.00000</td>\n",
       "      <td>185.931507</td>\n",
       "      <td>6.9</td>\n",
       "      <td>86</td>\n",
       "      <td>8</td>\n",
       "      <td>4</td>\n",
       "      <td>0</td>\n",
       "    </tr>\n",
       "    <tr>\n",
       "      <th>105</th>\n",
       "      <td>65.00000</td>\n",
       "      <td>157.000000</td>\n",
       "      <td>9.7</td>\n",
       "      <td>80</td>\n",
       "      <td>8</td>\n",
       "      <td>14</td>\n",
       "      <td>2</td>\n",
       "    </tr>\n",
       "    <tr>\n",
       "      <th>123</th>\n",
       "      <td>96.00000</td>\n",
       "      <td>167.000000</td>\n",
       "      <td>6.9</td>\n",
       "      <td>91</td>\n",
       "      <td>9</td>\n",
       "      <td>1</td>\n",
       "      <td>1</td>\n",
       "    </tr>\n",
       "    <tr>\n",
       "      <th>137</th>\n",
       "      <td>13.00000</td>\n",
       "      <td>112.000000</td>\n",
       "      <td>11.5</td>\n",
       "      <td>71</td>\n",
       "      <td>9</td>\n",
       "      <td>15</td>\n",
       "      <td>0</td>\n",
       "    </tr>\n",
       "    <tr>\n",
       "      <th>149</th>\n",
       "      <td>42.12931</td>\n",
       "      <td>145.000000</td>\n",
       "      <td>13.2</td>\n",
       "      <td>77</td>\n",
       "      <td>9</td>\n",
       "      <td>27</td>\n",
       "      <td>1</td>\n",
       "    </tr>\n",
       "  </tbody>\n",
       "</table>\n",
       "</div>"
      ],
      "text/plain": [
       "        Ozone     Solar.R  Wind  Temp  Month  Day  Humidity\n",
       "1    36.00000  118.000000   8.0    72      5    2         0\n",
       "2    12.00000  149.000000  12.6    74      5    3         1\n",
       "3    18.00000  313.000000  11.5    62      5    4         0\n",
       "6    23.00000  299.000000   8.6    65      5    7         0\n",
       "12   11.00000  290.000000   9.2    66      5   13         1\n",
       "28   45.00000  252.000000  14.9    81      5   29         0\n",
       "70   85.00000  175.000000   7.4    89      7   10         2\n",
       "81   16.00000    7.000000   6.9    74      7   21         2\n",
       "95   78.00000  185.931507   6.9    86      8    4         0\n",
       "105  65.00000  157.000000   9.7    80      8   14         2\n",
       "123  96.00000  167.000000   6.9    91      9    1         1\n",
       "137  13.00000  112.000000  11.5    71      9   15         0\n",
       "149  42.12931  145.000000  13.2    77      9   27         1"
      ]
     },
     "execution_count": 16,
     "metadata": {},
     "output_type": "execute_result"
    }
   ],
   "source": [
    "merge"
   ]
  },
  {
   "cell_type": "code",
   "execution_count": null,
   "id": "3d302aa3-bca8-491c-8e16-5cb29f8c670e",
   "metadata": {},
   "outputs": [],
   "source": []
  },
  {
   "cell_type": "markdown",
   "id": "d1e24072-baa8-4760-ad54-12827eb3a189",
   "metadata": {},
   "source": [
    "# Deriving correlation between Columns"
   ]
  },
  {
   "cell_type": "code",
   "execution_count": 17,
   "id": "ddaf6626-359a-401c-8fd7-a7f255f8668b",
   "metadata": {},
   "outputs": [],
   "source": [
    "corr = aditya.corr()"
   ]
  },
  {
   "cell_type": "code",
   "execution_count": 18,
   "id": "77544d4b-01d3-4318-89f3-a368ee9ac91f",
   "metadata": {},
   "outputs": [
    {
     "data": {
      "text/html": [
       "<div>\n",
       "<style scoped>\n",
       "    .dataframe tbody tr th:only-of-type {\n",
       "        vertical-align: middle;\n",
       "    }\n",
       "\n",
       "    .dataframe tbody tr th {\n",
       "        vertical-align: top;\n",
       "    }\n",
       "\n",
       "    .dataframe thead th {\n",
       "        text-align: right;\n",
       "    }\n",
       "</style>\n",
       "<table border=\"1\" class=\"dataframe\">\n",
       "  <thead>\n",
       "    <tr style=\"text-align: right;\">\n",
       "      <th></th>\n",
       "      <th>Ozone</th>\n",
       "      <th>Solar.R</th>\n",
       "      <th>Wind</th>\n",
       "      <th>Temp</th>\n",
       "      <th>Month</th>\n",
       "      <th>Day</th>\n",
       "      <th>Humidity</th>\n",
       "    </tr>\n",
       "  </thead>\n",
       "  <tbody>\n",
       "    <tr>\n",
       "      <th>Ozone</th>\n",
       "      <td>1.000000</td>\n",
       "      <td>0.302970</td>\n",
       "      <td>-0.529389</td>\n",
       "      <td>0.608742</td>\n",
       "      <td>0.149081</td>\n",
       "      <td>-0.011355</td>\n",
       "      <td>0.049965</td>\n",
       "    </tr>\n",
       "    <tr>\n",
       "      <th>Solar.R</th>\n",
       "      <td>0.302970</td>\n",
       "      <td>1.000000</td>\n",
       "      <td>-0.059408</td>\n",
       "      <td>0.262569</td>\n",
       "      <td>-0.072904</td>\n",
       "      <td>-0.145621</td>\n",
       "      <td>-0.039790</td>\n",
       "    </tr>\n",
       "    <tr>\n",
       "      <th>Wind</th>\n",
       "      <td>-0.529389</td>\n",
       "      <td>-0.059408</td>\n",
       "      <td>1.000000</td>\n",
       "      <td>-0.455128</td>\n",
       "      <td>-0.173857</td>\n",
       "      <td>0.025837</td>\n",
       "      <td>-0.073615</td>\n",
       "    </tr>\n",
       "    <tr>\n",
       "      <th>Temp</th>\n",
       "      <td>0.608742</td>\n",
       "      <td>0.262569</td>\n",
       "      <td>-0.455128</td>\n",
       "      <td>1.000000</td>\n",
       "      <td>0.420947</td>\n",
       "      <td>-0.130593</td>\n",
       "      <td>-0.070224</td>\n",
       "    </tr>\n",
       "    <tr>\n",
       "      <th>Month</th>\n",
       "      <td>0.149081</td>\n",
       "      <td>-0.072904</td>\n",
       "      <td>-0.173857</td>\n",
       "      <td>0.420947</td>\n",
       "      <td>1.000000</td>\n",
       "      <td>-0.007962</td>\n",
       "      <td>-0.011713</td>\n",
       "    </tr>\n",
       "    <tr>\n",
       "      <th>Day</th>\n",
       "      <td>-0.011355</td>\n",
       "      <td>-0.145621</td>\n",
       "      <td>0.025837</td>\n",
       "      <td>-0.130593</td>\n",
       "      <td>-0.007962</td>\n",
       "      <td>1.000000</td>\n",
       "      <td>0.094662</td>\n",
       "    </tr>\n",
       "    <tr>\n",
       "      <th>Humidity</th>\n",
       "      <td>0.049965</td>\n",
       "      <td>-0.039790</td>\n",
       "      <td>-0.073615</td>\n",
       "      <td>-0.070224</td>\n",
       "      <td>-0.011713</td>\n",
       "      <td>0.094662</td>\n",
       "      <td>1.000000</td>\n",
       "    </tr>\n",
       "  </tbody>\n",
       "</table>\n",
       "</div>"
      ],
      "text/plain": [
       "             Ozone   Solar.R      Wind      Temp     Month       Day  Humidity\n",
       "Ozone     1.000000  0.302970 -0.529389  0.608742  0.149081 -0.011355  0.049965\n",
       "Solar.R   0.302970  1.000000 -0.059408  0.262569 -0.072904 -0.145621 -0.039790\n",
       "Wind     -0.529389 -0.059408  1.000000 -0.455128 -0.173857  0.025837 -0.073615\n",
       "Temp      0.608742  0.262569 -0.455128  1.000000  0.420947 -0.130593 -0.070224\n",
       "Month     0.149081 -0.072904 -0.173857  0.420947  1.000000 -0.007962 -0.011713\n",
       "Day      -0.011355 -0.145621  0.025837 -0.130593 -0.007962  1.000000  0.094662\n",
       "Humidity  0.049965 -0.039790 -0.073615 -0.070224 -0.011713  0.094662  1.000000"
      ]
     },
     "execution_count": 18,
     "metadata": {},
     "output_type": "execute_result"
    }
   ],
   "source": [
    "corr"
   ]
  },
  {
   "cell_type": "code",
   "execution_count": 19,
   "id": "5cfb6c80-34b2-4a49-845a-319a12b671d2",
   "metadata": {},
   "outputs": [
    {
     "data": {
      "text/plain": [
       "<AxesSubplot:>"
      ]
     },
     "execution_count": 19,
     "metadata": {},
     "output_type": "execute_result"
    },
    {
     "data": {
      "image/png": "[encoded data removed]",
      "text/plain": [
       "<Figure size 432x288 with 2 Axes>"
      ]
     },
     "metadata": {
      "needs_background": "light"
     },
     "output_type": "display_data"
    }
   ],
   "source": [
    "import seaborn as sns\n",
    "sns.heatmap(corr, vmin = -1, vmax = 1, annot=True)"
   ]
  },
  {
   "cell_type": "code",
   "execution_count": null,
   "id": "da27377a-62ae-4de2-99d4-783f2be53233",
   "metadata": {},
   "outputs": [],
   "source": []
  },
  {
   "cell_type": "markdown",
   "id": "46324ce7-773f-45c1-bc68-99a8d3c014cf",
   "metadata": {},
   "source": [
    "# Building Data Model\n",
    "<h2>Using Linear Regression</h2>"
   ]
  },
  {
   "cell_type": "code",
   "execution_count": 20,
   "id": "8b521b67-18bd-40de-8bfa-63ce94f083f6",
   "metadata": {},
   "outputs": [],
   "source": [
    "x = aditya[[\"Ozone\"]]\n",
    "y = aditya[[\"Temp\"]]"
   ]
  },
  {
   "cell_type": "code",
   "execution_count": 21,
   "id": "3eb7811c-1c4b-4abc-928a-46f12772ec6f",
   "metadata": {},
   "outputs": [],
   "source": [
    "from sklearn.model_selection import train_test_split"
   ]
  },
  {
   "cell_type": "code",
   "execution_count": 22,
   "id": "08bf879c-8da2-4e6d-89b5-645f10b1a204",
   "metadata": {},
   "outputs": [],
   "source": [
    "xtrain, xtest, ytrain, ytest = train_test_split(x, y, test_size=0.3)"
   ]
  },
  {
   "cell_type": "code",
   "execution_count": 23,
   "id": "08001ba3-e528-477a-82cb-7a6b23496ddb",
   "metadata": {},
   "outputs": [],
   "source": [
    "from sklearn.linear_model import LinearRegression"
   ]
  },
  {
   "cell_type": "code",
   "execution_count": 24,
   "id": "792e6906-b14e-4b7a-84a4-a8331aa27057",
   "metadata": {},
   "outputs": [],
   "source": [
    "lr = LinearRegression()"
   ]
  },
  {
   "cell_type": "code",
   "execution_count": 25,
   "id": "8a5674a5-38e4-4d6d-bfe8-855bb15352e6",
   "metadata": {},
   "outputs": [],
   "source": [
    "model = lr.fit(xtrain, ytrain)"
   ]
  },
  {
   "cell_type": "code",
   "execution_count": 26,
   "id": "258b9c3e-5c8f-4183-b0e7-2e8f1efa3800",
   "metadata": {},
   "outputs": [],
   "source": [
    "ypredict = model.predict(xtest)"
   ]
  },
  {
   "cell_type": "code",
   "execution_count": null,
   "id": "399855a4-009a-43dd-b3b1-d745e65a6ffb",
   "metadata": {},
   "outputs": [],
   "source": []
  },
  {
   "cell_type": "code",
   "execution_count": 27,
   "id": "8798e333-1952-4c0a-a063-3a3510efdb3d",
   "metadata": {},
   "outputs": [],
   "source": [
    "import matplotlib.pyplot as plt"
   ]
  },
  {
   "cell_type": "markdown",
   "id": "de52575f-301f-4bc2-8730-49fa5366c053",
   "metadata": {},
   "source": [
    "<h3>Plotting Graph</h3>"
   ]
  },
  {
   "cell_type": "code",
   "execution_count": 28,
   "id": "1aaa919c-1a60-4f9a-86cb-841e848ddeff",
   "metadata": {},
   "outputs": [
    {
     "data": {
      "image/png": "[encoded data removed]",
      "text/plain": [
       "<Figure size 432x288 with 1 Axes>"
      ]
     },
     "metadata": {
      "needs_background": "light"
     },
     "output_type": "display_data"
    }
   ],
   "source": [
    "plt.scatter(xtrain, ytrain, color=\"red\")\n",
    "plt.plot(xtrain, lr.predict(xtrain), color=\"blue\")\n",
    "plt.xlabel(\"Ozone\")\n",
    "plt.ylabel(\"Temp\")\n",
    "plt.title(\"Ozone vs Temp\")\n",
    "plt.show()"
   ]
  },
  {
   "cell_type": "markdown",
   "id": "515076fb-e4bf-432a-a11a-79a5dcc60255",
   "metadata": {},
   "source": [
    "<h2>Calculating Metrics</h2>"
   ]
  },
  {
   "cell_type": "code",
   "execution_count": 29,
   "id": "b279832f-4010-4240-bcf0-c1bacf98a93e",
   "metadata": {},
   "outputs": [],
   "source": [
    "from sklearn.metrics import mean_absolute_error,mean_squared_error,r2_score\n",
    "import numpy as np"
   ]
  },
  {
   "cell_type": "code",
   "execution_count": 30,
   "id": "8477e7bb-262b-4d63-af05-a625b2085764",
   "metadata": {},
   "outputs": [],
   "source": [
    "MSE = mean_squared_error(ytest,ypredict)\n",
    "MAE = mean_absolute_error(ytest,ypredict)\n",
    "r2_score = r2_score(ytest,ypredict)\n",
    "RMSE = np.sqrt(MSE)"
   ]
  },
  {
   "cell_type": "code",
   "execution_count": 31,
   "id": "6d1c8446-f66f-473b-aba0-9eb6a1265c78",
   "metadata": {},
   "outputs": [
    {
     "name": "stdout",
     "output_type": "stream",
     "text": [
      "MSE : 49.70527678795436 \n",
      "RMSE : 7.050196932565385 \n",
      "MAE : 5.679937973090998 \n",
      "R2 Score : 0.46210427046426217\n"
     ]
    }
   ],
   "source": [
    "print(\"MSE : {} \\nRMSE : {} \\nMAE : {} \\nR2 Score : {}\".format(MSE, RMSE, MAE, r2_score))"
   ]
  }
 ],
 "metadata": {
  "kernelspec": {
   "display_name": "Python 3 (ipykernel)",
   "language": "python",
   "name": "python3"
  },
  "language_info": {
   "codemirror_mode": {
    "name": "ipython",
    "version": 3
   },
   "file_extension": ".py",
   "mimetype": "text/x-python",
   "name": "python",
   "nbconvert_exporter": "python",
   "pygments_lexer": "ipython3",
   "version": "3.10.0"
  }
 },
 "nbformat": 4,
 "nbformat_minor": 5
}
